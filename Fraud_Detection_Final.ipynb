{
 "cells": [
  {
   "cell_type": "markdown",
   "id": "503c68bf-e00f-4c5f-89eb-470a58fe9671",
   "metadata": {},
   "source": [
    "### 1. Project Title & Objective"
   ]
  },
  {
   "cell_type": "markdown",
   "id": "203173f5-44e1-432c-a9e2-7a394b14b9e2",
   "metadata": {},
   "source": [
    "# Fraud Detection System for Financial Transactions \n",
    "This project aims to detect fraudulent transactions using Machine Learning. We use data preprocessing, balancing, model training, evaluation, and a Streamlit web app to simulate real-time fraud detection."
   ]
  },
  {
   "cell_type": "markdown",
   "id": "708d9eac-9cb3-44f5-bc49-edd259a73a9b",
   "metadata": {},
   "source": [
    "### 2.Import Libraries"
   ]
  },
  {
   "cell_type": "code",
   "execution_count": 1,
   "id": "594cf520-21f3-45b4-86ab-769b76333036",
   "metadata": {},
   "outputs": [],
   "source": [
    "import pandas as pd\n",
    "import numpy as np\n",
    "import matplotlib.pyplot as plt\n",
    "import seaborn as sns\n",
    "from sklearn.model_selection import train_test_split\n",
    "from sklearn.linear_model import LogisticRegression\n",
    "from sklearn.metrics import classification_report, confusion_matrix, f1_score, roc_auc_score\n",
    "from sklearn.preprocessing import StandardScaler\n",
    "from imblearn.over_sampling import SMOTE\n",
    "import warnings\n",
    "warnings.filterwarnings(\"ignore\")"
   ]
  },
  {
   "cell_type": "markdown",
   "id": "c4126045-bdc9-4fd0-9563-3cc389304e1b",
   "metadata": {},
   "source": [
    "### 3.Load & Explore Data"
   ]
  },
  {
   "cell_type": "code",
   "execution_count": 2,
   "id": "c23ced74-371b-4e1e-a5db-4c0e99ba732d",
   "metadata": {},
   "outputs": [
    {
     "name": "stdout",
     "output_type": "stream",
     "text": [
      "<class 'pandas.core.frame.DataFrame'>\n",
      "RangeIndex: 284807 entries, 0 to 284806\n",
      "Data columns (total 31 columns):\n",
      " #   Column  Non-Null Count   Dtype  \n",
      "---  ------  --------------   -----  \n",
      " 0   Time    284807 non-null  float64\n",
      " 1   V1      284807 non-null  float64\n",
      " 2   V2      284807 non-null  float64\n",
      " 3   V3      284807 non-null  float64\n",
      " 4   V4      284807 non-null  float64\n",
      " 5   V5      284807 non-null  float64\n",
      " 6   V6      284807 non-null  float64\n",
      " 7   V7      284807 non-null  float64\n",
      " 8   V8      284807 non-null  float64\n",
      " 9   V9      284807 non-null  float64\n",
      " 10  V10     284807 non-null  float64\n",
      " 11  V11     284807 non-null  float64\n",
      " 12  V12     284807 non-null  float64\n",
      " 13  V13     284807 non-null  float64\n",
      " 14  V14     284807 non-null  float64\n",
      " 15  V15     284807 non-null  float64\n",
      " 16  V16     284807 non-null  float64\n",
      " 17  V17     284807 non-null  float64\n",
      " 18  V18     284807 non-null  float64\n",
      " 19  V19     284807 non-null  float64\n",
      " 20  V20     284807 non-null  float64\n",
      " 21  V21     284807 non-null  float64\n",
      " 22  V22     284807 non-null  float64\n",
      " 23  V23     284807 non-null  float64\n",
      " 24  V24     284807 non-null  float64\n",
      " 25  V25     284807 non-null  float64\n",
      " 26  V26     284807 non-null  float64\n",
      " 27  V27     284807 non-null  float64\n",
      " 28  V28     284807 non-null  float64\n",
      " 29  Amount  284807 non-null  float64\n",
      " 30  Class   284807 non-null  int64  \n",
      "dtypes: float64(30), int64(1)\n",
      "memory usage: 67.4 MB\n"
     ]
    },
    {
     "data": {
      "text/plain": [
       "Time      0\n",
       "V1        0\n",
       "V2        0\n",
       "V3        0\n",
       "V4        0\n",
       "V5        0\n",
       "V6        0\n",
       "V7        0\n",
       "V8        0\n",
       "V9        0\n",
       "V10       0\n",
       "V11       0\n",
       "V12       0\n",
       "V13       0\n",
       "V14       0\n",
       "V15       0\n",
       "V16       0\n",
       "V17       0\n",
       "V18       0\n",
       "V19       0\n",
       "V20       0\n",
       "V21       0\n",
       "V22       0\n",
       "V23       0\n",
       "V24       0\n",
       "V25       0\n",
       "V26       0\n",
       "V27       0\n",
       "V28       0\n",
       "Amount    0\n",
       "Class     0\n",
       "dtype: int64"
      ]
     },
     "execution_count": 2,
     "metadata": {},
     "output_type": "execute_result"
    }
   ],
   "source": [
    "df = pd.read_csv('creditcard.csv') \n",
    "df.head()\n",
    "df.info()\n",
    "df.describe()\n",
    "df.isnull().sum()"
   ]
  },
  {
   "cell_type": "markdown",
   "id": "1c2dd431-06f9-4641-8983-3a726d04fddb",
   "metadata": {},
   "source": [
    "### Data Summary:\n",
    "- No missing values \n",
    "- Imbalanced target variable \n"
   ]
  },
  {
   "cell_type": "markdown",
   "id": "a342d1dc-5592-43ba-a2d4-678837c4d509",
   "metadata": {},
   "source": [
    "### 4. Data Preprocessing"
   ]
  },
  {
   "cell_type": "code",
   "execution_count": 3,
   "id": "4b36b932-3438-441c-b214-44d0ddadab84",
   "metadata": {},
   "outputs": [],
   "source": [
    "X = df.drop(\"Class\", axis=1)\n",
    "y = df[\"Class\"]\n",
    "X_train, X_test, y_train, y_test = train_test_split(X, y, test_size=0.3, random_state=42, stratify=y)"
   ]
  },
  {
   "cell_type": "markdown",
   "id": "18f4053c-738d-47d1-aa20-974880ae4b27",
   "metadata": {},
   "source": [
    "### 5. Handle Class Imbalance using SMOTE"
   ]
  },
  {
   "cell_type": "code",
   "execution_count": 4,
   "id": "ff335fdc-636c-45d0-88db-2f903ec0223d",
   "metadata": {},
   "outputs": [],
   "source": [
    "from imblearn.over_sampling import SMOTE\n",
    "smote = SMOTE(random_state=42)\n",
    "X_train_smote, y_train_smote = smote.fit_resample(X_train, y_train)"
   ]
  },
  {
   "cell_type": "markdown",
   "id": "03367680-89eb-4ef2-b83b-80736893d45a",
   "metadata": {},
   "source": [
    "### Why SMOTE?\n",
    "SMOTE (Synthetic Minority Oversampling Technique) balances the dataset by generating synthetic samples of the minority class (fraud) instead of duplicating.\n"
   ]
  },
  {
   "cell_type": "markdown",
   "id": "298efdf8-d512-4383-9f98-e032040cdc2f",
   "metadata": {},
   "source": [
    "### 6. Feature Scaling"
   ]
  },
  {
   "cell_type": "code",
   "execution_count": 5,
   "id": "6dcde92c-b6a7-473e-8f94-20d94fa742a4",
   "metadata": {},
   "outputs": [],
   "source": [
    "scaler = StandardScaler()\n",
    "X_train_scaled = scaler.fit_transform(X_train_smote)\n",
    "X_test_scaled = scaler.transform(X_test)"
   ]
  },
  {
   "cell_type": "markdown",
   "id": "e02629c7-90c8-44ed-97a6-b5bc5079e6b6",
   "metadata": {},
   "source": [
    "### 7. Model Training & Evaluation (Logistic Regression)"
   ]
  },
  {
   "cell_type": "code",
   "execution_count": 6,
   "id": "bc5fd9f7-09ff-4774-8c4e-5c6676c63fb3",
   "metadata": {},
   "outputs": [
    {
     "name": "stdout",
     "output_type": "stream",
     "text": [
      "Classification Report:\n",
      "               precision    recall  f1-score   support\n",
      "\n",
      "           0       1.00      0.99      1.00     85295\n",
      "           1       0.15      0.85      0.25       148\n",
      "\n",
      "    accuracy                           0.99     85443\n",
      "   macro avg       0.57      0.92      0.62     85443\n",
      "weighted avg       1.00      0.99      0.99     85443\n",
      "\n",
      "Confusion Matrix:\n",
      " [[84574   721]\n",
      " [   22   126]]\n",
      "F1 Score: 0.25326633165829143\n",
      "ROC AUC Score: 0.9665266650084048\n"
     ]
    }
   ],
   "source": [
    "model = LogisticRegression(max_iter=1000, solver='lbfgs')\n",
    "model.fit(X_train_scaled, y_train_smote)\n",
    "y_pred = model.predict(X_test_scaled)\n",
    "print(\"Classification Report:\\n\", classification_report(y_test, y_pred))\n",
    "print(\"Confusion Matrix:\\n\", confusion_matrix(y_test, y_pred))\n",
    "print(\"F1 Score:\", f1_score(y_test, y_pred))\n",
    "print(\"ROC AUC Score:\", roc_auc_score(y_test, model.predict_proba(X_test_scaled)[:,1]))"
   ]
  },
  {
   "cell_type": "code",
   "execution_count": 7,
   "id": "c32f4a74-3d52-435b-a365-723fde4c1025",
   "metadata": {},
   "outputs": [
    {
     "data": {
      "image/png": "[encoded data removed]",
      "text/plain": [
       "<Figure size 640x480 with 2 Axes>"
      ]
     },
     "metadata": {},
     "output_type": "display_data"
    }
   ],
   "source": [
    "cm = confusion_matrix(y_test, y_pred)\n",
    "sns.heatmap(cm, annot=True, fmt='d', cmap='Blues')\n",
    "plt.title('Confusion Matrix')\n",
    "plt.show()"
   ]
  },
  {
   "cell_type": "markdown",
   "id": "d638af9a-1cf8-4c1b-9ba5-e59f94b915df",
   "metadata": {},
   "source": [
    "### 8. Model Interpretation\n",
    "### Model Insights\n",
    "- Logistic Regression chosen for its simplicity and interpretability.\n",
    "- Balanced F1 Score & ROC AUC show good model performance.\n",
    "- Confusion Matrix shows fewer false positives/negatives.\n"
   ]
  },
  {
   "cell_type": "markdown",
   "id": "670f1f1c-f341-4406-a4e2-833cf0ba9917",
   "metadata": {},
   "source": [
    "### Save Model for Deployment"
   ]
  },
  {
   "cell_type": "code",
   "execution_count": 12,
   "id": "3e68110b-f472-455c-a44a-c1e2e3a252c7",
   "metadata": {},
   "outputs": [
    {
     "name": "stdout",
     "output_type": "stream",
     "text": [
      " Saved fraud_model.pkl and scaler.pkl\n"
     ]
    }
   ],
   "source": [
    "from sklearn.linear_model import LogisticRegression\n",
    "import joblib\n",
    "\n",
    "# After training\n",
    "joblib.dump(model, 'fraud_model.joblib')\n",
    "joblib.dump(scaler, 'scaler.joblib')\n",
    "\n",
    "print(\" Saved fraud_model.pkl and scaler.pkl\")"
   ]
  },
  {
   "cell_type": "markdown",
   "id": "cae7f01a-5eaf-4108-8348-e7aeff02c02d",
   "metadata": {},
   "source": [
    "## Project Summary"
   ]
  },
  {
   "cell_type": "markdown",
   "id": "2be08a87-8044-46a4-b164-3ad4644a975d",
   "metadata": {},
   "source": [
    "##  Final Thoughts:\n",
    "- Built a complete fraud detection system end-to-end.\n",
    "- Applied data balancing (SMOTE), feature scaling, logistic regression, and performance evaluation.\n",
    "- Developed a real-time prediction app using Streamlit.\n",
    "- Ready for deployment and future enhancement using XGBoost, LIME, or SHAP for model explainability.\n"
   ]
  },
  {
   "cell_type": "code",
   "execution_count": null,
   "id": "7d64eb7f-c440-4b59-9247-e8a3a9fb03bd",
   "metadata": {},
   "outputs": [],
   "source": []
  }
 ],
 "metadata": {
  "kernelspec": {
   "display_name": "Python 3 (ipykernel)",
   "language": "python",
   "name": "python3"
  },
  "language_info": {
   "codemirror_mode": {
    "name": "ipython",
    "version": 3
   },
   "file_extension": ".py",
   "mimetype": "text/x-python",
   "name": "python",
   "nbconvert_exporter": "python",
   "pygments_lexer": "ipython3",
   "version": "3.13.1"
  }
 },
 "nbformat": 4,
 "nbformat_minor": 5
}
